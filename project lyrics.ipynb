{
 "cells": [
  {
   "cell_type": "code",
   "execution_count": 2,
   "metadata": {},
   "outputs": [],
   "source": [
    "import numpy as np\n",
    "import re\n",
    "import random\n",
    "import pandas as pd\n"
   ]
  },
  {
   "cell_type": "code",
   "execution_count": 21,
   "metadata": {},
   "outputs": [],
   "source": [
    "songfile = pd.read_csv(\"/home/shivansh/Downloads/songdata.csv\")"
   ]
  },
  {
   "cell_type": "code",
   "execution_count": 22,
   "metadata": {},
   "outputs": [
    {
     "data": {
      "text/plain": [
       "(57650, 4)"
      ]
     },
     "execution_count": 22,
     "metadata": {},
     "output_type": "execute_result"
    }
   ],
   "source": [
    "songfile.shape"
   ]
  },
  {
   "cell_type": "code",
   "execution_count": 30,
   "metadata": {},
   "outputs": [],
   "source": [
    "p=\"\"\n",
    "for i in songfile.text:\n",
    "    p+=i\n",
    "\n",
    "data = p    "
   ]
  },
  {
   "cell_type": "code",
   "execution_count": 31,
   "metadata": {},
   "outputs": [
    {
     "name": "stdout",
     "output_type": "stream",
     "text": [
      "at her face, it\n"
     ]
    }
   ],
   "source": [
    "print(p[5:20])"
   ]
  },
  {
   "cell_type": "code",
   "execution_count": 32,
   "metadata": {},
   "outputs": [],
   "source": [
    "T = {}\n",
    "\n",
    "# define order of the Markov chain\n",
    "order = 8\n",
    "\n",
    "for ix in range(len(data)-order):\n",
    "    # get the current context\n",
    "    ctx = data[ix:ix+order]\n",
    "    \n",
    "    # get the future val\n",
    "    future_val = data[ix+order]\n",
    "    \n",
    "    # check if the context exists\n",
    "    if T.get(ctx) is None:\n",
    "        T[ctx] = {}\n",
    "        T[ctx][future_val] = 1\n",
    "    else:\n",
    "        # check if the future_val key exists\n",
    "        if T[ctx].get(future_val) is None:\n",
    "            T[ctx][future_val] = 1\n",
    "        else:\n",
    "            T[ctx][future_val] += 1"
   ]
  },
  {
   "cell_type": "code",
   "execution_count": 35,
   "metadata": {},
   "outputs": [],
   "source": [
    "for kx in T.keys():\n",
    "    s = float(sum(T[kx].values()))\n",
    "    \n",
    "    for k in T[kx].keys():\n",
    "        T[kx][k] = T[kx][k]/s\n"
   ]
  },
  {
   "cell_type": "code",
   "execution_count": 36,
   "metadata": {},
   "outputs": [],
   "source": [
    "# defines exponential probabilities\n",
    "def temp_sample(probs, temp=1.0):\n",
    "    probs = np.asarray(probs)\n",
    "    \n",
    "    exp_probs = np.exp(np.log(probs) / temp)\n",
    "    \n",
    "    return list(exp_probs / exp_probs.sum())"
   ]
  },
  {
   "cell_type": "code",
   "execution_count": 37,
   "metadata": {},
   "outputs": [],
   "source": [
    "def generate_next(ctx, diversity=1.0):\n",
    "    r = np.random.random()\n",
    "    \n",
    "    possible = T.get(ctx)\n",
    "    if possible is None:\n",
    "        return ' '\n",
    "    diverse_probs = temp_sample(list(possible.values()),temp=diversity)\n",
    "        \n",
    "    return np.random.choice(list(possible.keys()),p = diverse_probs)\n"
   ]
  },
  {
   "cell_type": "code",
   "execution_count": 45,
   "metadata": {},
   "outputs": [
    {
     "name": "stdout",
     "output_type": "stream",
     "text": [
      "\n",
      "  \n",
      "Condition notice me  \n",
      "They gave me sad  \n",
      "Well, I've been away with his airbrakes moaning, beauty of cash  \n",
      "Always hedges first, won't,  \n",
      "Yes I've been lied to  \n",
      "Place and climb into bed.  \n",
      "You never steps my lovingly restored to sit and playing in reflects elation  \n",
      "If you're drownin' all that she took for me.  \n",
      "Good name and that's growin' your fifth, sixth wind  \n",
      "I sang \"love  \n",
      "Look how good that jobs you've got us fucked up?  \n",
      "Fucked along, John, have than your savior or majority of tiny little dirt road from tomorrow  \n",
      "Why rush it through  \n",
      "Be hind the story you let that rolls, watch it all last whispered, ?My baby, you and me got platinum, to follows gonna be  \n",
      "Today  \n",
      "To blow oh oh -- oh oh oh.  \n",
      "He's so much, but there  \n",
      "Don't littering idle  \n",
      "But won't come calling, lit by the 45 King, she isn't superstar, supersonic man out, I will leave him.  \n",
      "  \n",
      "I just turn)  \n",
      "When will you tyrants of track  \n",
      "A passing bits of  \n",
      "  \n",
      "Invading myself, too  \n",
      "  \n",
      "Wouldn't know, I'll keep you  \n",
      "Birds o\n"
     ]
    }
   ],
   "source": [
    "ind = int(np.random.random()*(len(data)-order))\n",
    "initial_state = data[ind:ind+order]\n",
    "ctx = initial_state\n",
    "\n",
    "sentence = '' + ctx\n",
    "\n",
    "for ix in range(1000):\n",
    "    nxt = generate_next(ctx, diversity=1.5)\n",
    "    sentence += nxt\n",
    "    ctx = sentence[-order:]\n",
    "\n",
    "print (sentence)"
   ]
  },
  {
   "cell_type": "code",
   "execution_count": 46,
   "metadata": {},
   "outputs": [],
   "source": [
    "f = open('/home/shivansh/Downloads/lyrics.txt','w')"
   ]
  },
  {
   "cell_type": "code",
   "execution_count": 47,
   "metadata": {},
   "outputs": [
    {
     "data": {
      "text/plain": [
       "1008"
      ]
     },
     "execution_count": 47,
     "metadata": {},
     "output_type": "execute_result"
    }
   ],
   "source": [
    "f.write(sentence)"
   ]
  },
  {
   "cell_type": "code",
   "execution_count": 48,
   "metadata": {},
   "outputs": [],
   "source": [
    "f.close()"
   ]
  },
  {
   "cell_type": "code",
   "execution_count": null,
   "metadata": {},
   "outputs": [],
   "source": []
  }
 ],
 "metadata": {
  "kernelspec": {
   "display_name": "Python 3",
   "language": "python",
   "name": "python3"
  },
  "language_info": {
   "codemirror_mode": {
    "name": "ipython",
    "version": 3
   },
   "file_extension": ".py",
   "mimetype": "text/x-python",
   "name": "python",
   "nbconvert_exporter": "python",
   "pygments_lexer": "ipython3",
   "version": "3.5.2"
  }
 },
 "nbformat": 4,
 "nbformat_minor": 2
}
